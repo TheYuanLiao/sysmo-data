{
 "cells": [
  {
   "cell_type": "markdown",
   "source": [
    "# Output summary"
   ],
   "metadata": {
    "collapsed": false
   },
   "id": "d4b90380e27b1f42"
  },
  {
   "cell_type": "code",
   "execution_count": 1,
   "outputs": [
    {
     "name": "stdout",
     "output_type": "stream",
     "text": [
      "D:\\sysmo-data\n"
     ]
    }
   ],
   "source": [
    "%load_ext autoreload\n",
    "%autoreload 2\n",
    "%cd D:\\sysmo-data\n",
    "%matplotlib inline"
   ],
   "metadata": {
    "collapsed": false,
    "ExecuteTime": {
     "end_time": "2023-12-16T09:58:28.722196100Z",
     "start_time": "2023-12-16T09:58:27.842571600Z"
    }
   },
   "id": "cf5146bb44483fdb"
  },
  {
   "cell_type": "code",
   "execution_count": 2,
   "outputs": [],
   "source": [
    "from tqdm.notebook import tqdm\n",
    "import pandas as pd\n",
    "import matsim\n",
    "import datetime\n",
    "from lib import workers as workers"
   ],
   "metadata": {
    "collapsed": false,
    "ExecuteTime": {
     "end_time": "2023-12-16T09:58:29.630800300Z",
     "start_time": "2023-12-16T09:58:28.690943800Z"
    }
   },
   "id": "f227f77b9097f3cd"
  },
  {
   "cell_type": "markdown",
   "source": [
    "## 1. Load input data"
   ],
   "metadata": {
    "collapsed": false
   },
   "id": "e2bfbd0d439f5af4"
  },
  {
   "cell_type": "code",
   "execution_count": 3,
   "outputs": [
    {
     "data": {
      "text/plain": "  act_purpose      PId   act_end  act_id mode            POINT_X  \\\n0        home  2744886  06:42:29       0       585619.0985000003   \n1       other  2744886  09:45:11       1  car  583755.7174000004   \n2       other  2744886  12:47:53       2  car  584572.7879999997   \n3       other  2744886  15:50:35       3  car  582742.5109999999   \n4        home  2744886  23:59:59       4  car  585619.0985000003   \n\n             POINT_Y  dep_time    src  score  \n0  6981072.204500001         0  input      0  \n1  6987753.562399998  06:42:29  input      0  \n2  6987384.729499999  09:45:11  input      0  \n3  6989346.078499999  12:47:53  input      0  \n4  6981072.204500001  15:50:35  input      0  ",
      "text/html": "<div>\n<style scoped>\n    .dataframe tbody tr th:only-of-type {\n        vertical-align: middle;\n    }\n\n    .dataframe tbody tr th {\n        vertical-align: top;\n    }\n\n    .dataframe thead th {\n        text-align: right;\n    }\n</style>\n<table border=\"1\" class=\"dataframe\">\n  <thead>\n    <tr style=\"text-align: right;\">\n      <th></th>\n      <th>act_purpose</th>\n      <th>PId</th>\n      <th>act_end</th>\n      <th>act_id</th>\n      <th>mode</th>\n      <th>POINT_X</th>\n      <th>POINT_Y</th>\n      <th>dep_time</th>\n      <th>src</th>\n      <th>score</th>\n    </tr>\n  </thead>\n  <tbody>\n    <tr>\n      <th>0</th>\n      <td>home</td>\n      <td>2744886</td>\n      <td>06:42:29</td>\n      <td>0</td>\n      <td></td>\n      <td>585619.0985000003</td>\n      <td>6981072.204500001</td>\n      <td>0</td>\n      <td>input</td>\n      <td>0</td>\n    </tr>\n    <tr>\n      <th>1</th>\n      <td>other</td>\n      <td>2744886</td>\n      <td>09:45:11</td>\n      <td>1</td>\n      <td>car</td>\n      <td>583755.7174000004</td>\n      <td>6987753.562399998</td>\n      <td>06:42:29</td>\n      <td>input</td>\n      <td>0</td>\n    </tr>\n    <tr>\n      <th>2</th>\n      <td>other</td>\n      <td>2744886</td>\n      <td>12:47:53</td>\n      <td>2</td>\n      <td>car</td>\n      <td>584572.7879999997</td>\n      <td>6987384.729499999</td>\n      <td>09:45:11</td>\n      <td>input</td>\n      <td>0</td>\n    </tr>\n    <tr>\n      <th>3</th>\n      <td>other</td>\n      <td>2744886</td>\n      <td>15:50:35</td>\n      <td>3</td>\n      <td>car</td>\n      <td>582742.5109999999</td>\n      <td>6989346.078499999</td>\n      <td>12:47:53</td>\n      <td>input</td>\n      <td>0</td>\n    </tr>\n    <tr>\n      <th>4</th>\n      <td>home</td>\n      <td>2744886</td>\n      <td>23:59:59</td>\n      <td>4</td>\n      <td>car</td>\n      <td>585619.0985000003</td>\n      <td>6981072.204500001</td>\n      <td>15:50:35</td>\n      <td>input</td>\n      <td>0</td>\n    </tr>\n  </tbody>\n</table>\n</div>"
     },
     "execution_count": 3,
     "metadata": {},
     "output_type": "execute_result"
    }
   ],
   "source": [
    "input_file = 'dbs/scenarios/palt23/plans_cars.xml.gz'\n",
    "plans = matsim.plan_reader(input_file)\n",
    "tst = 0\n",
    "list_df_tst = []\n",
    "for person, plan in plans:\n",
    "    list_df_tst.append(workers.personplan2df(person, plan, output=False, experienced=False))\n",
    "    tst += 1\n",
    "    if tst == 99:\n",
    "        break\n",
    "df_tst = pd.concat(list_df_tst)\n",
    "df_tst.head()"
   ],
   "metadata": {
    "collapsed": false,
    "ExecuteTime": {
     "end_time": "2023-12-16T09:58:30.069398800Z",
     "start_time": "2023-12-16T09:58:29.630800300Z"
    }
   },
   "id": "e87285e306fba463"
  },
  {
   "cell_type": "markdown",
   "source": [
    "### 1.1 Fill in trav_time in the input plans"
   ],
   "metadata": {
    "collapsed": false
   },
   "id": "9ce4ee81dcb192a8"
  },
  {
   "cell_type": "code",
   "execution_count": 4,
   "outputs": [],
   "source": [
    "df_plan = pd.read_pickle('dbs/df_act_plan.pkl')\n",
    "df_plan = df_plan.loc[:, ['PId', 'act_id', 'act_start', 'act_end']].\\\n",
    "    sort_values(by=['PId', 'act_id'], ascending=True)\n",
    "df_plan.PId = df_plan.PId.astype(str)"
   ],
   "metadata": {
    "collapsed": false,
    "ExecuteTime": {
     "end_time": "2023-12-16T10:02:44.271390100Z",
     "start_time": "2023-12-16T09:58:35.719986200Z"
    }
   },
   "id": "8f4e990d9dbfd58d"
  },
  {
   "cell_type": "code",
   "execution_count": 5,
   "outputs": [],
   "source": [
    "def trav_time_cal(data):\n",
    "    data.loc[:, 'trav_time_min'] = [0.0] + [y-x for x, y in zip(data['act_end'].values[:-1], data['act_start'].values[1:])]\n",
    "    return data\n",
    "\n",
    "# Delta time format conversion\n",
    "def digi2string(delta_time):\n",
    "    hours = int(delta_time)\n",
    "    minutes = int((delta_time - hours) * 60)\n",
    "    seconds = int((delta_time - hours - minutes / 60) * 3600)\n",
    "    time_delta = datetime.timedelta(hours=hours, minutes=minutes, seconds=seconds)\n",
    "    # Format the time as \"hh:mm:ss\"\n",
    "    formatted_time = str(time_delta)\n",
    "\n",
    "    # If you want to remove the days part (if present)\n",
    "    if 'days' in formatted_time:\n",
    "        formatted_time = formatted_time.split(', ')[-1]\n",
    "    return formatted_time"
   ],
   "metadata": {
    "collapsed": false,
    "ExecuteTime": {
     "end_time": "2023-12-16T10:02:44.364884800Z",
     "start_time": "2023-12-16T10:02:44.271390100Z"
    }
   },
   "id": "708d87bdfccb7457"
  },
  {
   "cell_type": "code",
   "execution_count": null,
   "outputs": [],
   "source": [
    "tqdm.pandas()\n",
    "df_plan = df_plan.groupby('PId').progress_apply(trav_time_cal).reset_index(drop=True)"
   ],
   "metadata": {
    "collapsed": false
   },
   "id": "3aa298b14804d932"
  },
  {
   "cell_type": "code",
   "execution_count": 6,
   "outputs": [
    {
     "data": {
      "text/plain": "  0%|          | 0/99 [00:00<?, ?it/s]",
      "application/vnd.jupyter.widget-view+json": {
       "version_major": 2,
       "version_minor": 0,
       "model_id": "6e52e618e2914b4cb71982c2409cc98f"
      }
     },
     "metadata": {},
     "output_type": "display_data"
    },
    {
     "data": {
      "text/plain": "  0%|          | 0/434 [00:00<?, ?it/s]",
      "application/vnd.jupyter.widget-view+json": {
       "version_major": 2,
       "version_minor": 0,
       "model_id": "333e3f6956964f11ab20af1b2d3a82ff"
      }
     },
     "metadata": {},
     "output_type": "display_data"
    },
    {
     "data": {
      "text/plain": "       PId  act_id  act_start    act_end  trav_time_min trav_time    act_time\n0  2744886       0   3.000000   6.708310       0.000000   0:00:00  222.498571\n1  2744886       1   6.787101   9.753229       4.727474   0:04:43  177.967666\n2  2744886       2   9.832020  12.798148       4.727474   0:04:43  177.967666\n3  2744886       3  12.876939  15.843067       4.727474   0:04:43  177.967666\n4  2744886       4  15.921858   3.000000       4.727474   0:04:43  664.688535",
      "text/html": "<div>\n<style scoped>\n    .dataframe tbody tr th:only-of-type {\n        vertical-align: middle;\n    }\n\n    .dataframe tbody tr th {\n        vertical-align: top;\n    }\n\n    .dataframe thead th {\n        text-align: right;\n    }\n</style>\n<table border=\"1\" class=\"dataframe\">\n  <thead>\n    <tr style=\"text-align: right;\">\n      <th></th>\n      <th>PId</th>\n      <th>act_id</th>\n      <th>act_start</th>\n      <th>act_end</th>\n      <th>trav_time_min</th>\n      <th>trav_time</th>\n      <th>act_time</th>\n    </tr>\n  </thead>\n  <tbody>\n    <tr>\n      <th>0</th>\n      <td>2744886</td>\n      <td>0</td>\n      <td>3.000000</td>\n      <td>6.708310</td>\n      <td>0.000000</td>\n      <td>0:00:00</td>\n      <td>222.498571</td>\n    </tr>\n    <tr>\n      <th>1</th>\n      <td>2744886</td>\n      <td>1</td>\n      <td>6.787101</td>\n      <td>9.753229</td>\n      <td>4.727474</td>\n      <td>0:04:43</td>\n      <td>177.967666</td>\n    </tr>\n    <tr>\n      <th>2</th>\n      <td>2744886</td>\n      <td>2</td>\n      <td>9.832020</td>\n      <td>12.798148</td>\n      <td>4.727474</td>\n      <td>0:04:43</td>\n      <td>177.967666</td>\n    </tr>\n    <tr>\n      <th>3</th>\n      <td>2744886</td>\n      <td>3</td>\n      <td>12.876939</td>\n      <td>15.843067</td>\n      <td>4.727474</td>\n      <td>0:04:43</td>\n      <td>177.967666</td>\n    </tr>\n    <tr>\n      <th>4</th>\n      <td>2744886</td>\n      <td>4</td>\n      <td>15.921858</td>\n      <td>3.000000</td>\n      <td>4.727474</td>\n      <td>0:04:43</td>\n      <td>664.688535</td>\n    </tr>\n  </tbody>\n</table>\n</div>"
     },
     "execution_count": 6,
     "metadata": {},
     "output_type": "execute_result"
    }
   ],
   "source": [
    "df_plan_trav = df_plan.loc[df_plan.PId.isin(df_tst.PId.unique()), :]\n",
    "tqdm.pandas()\n",
    "df_plan_trav = df_plan_trav.groupby('PId').progress_apply(trav_time_cal).reset_index(drop=True)\n",
    "\n",
    "tqdm.pandas()\n",
    "df_plan_trav.loc[:, 'trav_time'] = df_plan_trav.loc[:, 'trav_time_min'].progress_apply(lambda x: digi2string(x))\n",
    "df_plan_trav.loc[:, 'trav_time_min'] *= 60\n",
    "df_plan_trav.loc[:, 'act_time'] = df_plan_trav.apply(lambda row: 60*(row['act_end'] - row['act_start']) if row['act_end'] > row['act_start'] else 60*(row['act_end'] + 24 - row['act_start']), axis=1)\n",
    "df_plan_trav.head()"
   ],
   "metadata": {
    "collapsed": false,
    "ExecuteTime": {
     "end_time": "2023-12-16T10:02:48.008760400Z",
     "start_time": "2023-12-16T10:02:44.364884800Z"
    }
   },
   "id": "93e28ba8d9f2a919"
  },
  {
   "cell_type": "code",
   "execution_count": 7,
   "outputs": [
    {
     "data": {
      "text/plain": "  act_purpose      PId   act_end  act_id mode            POINT_X  \\\n0        home  2744886  06:42:29       0       585619.0985000003   \n1       other  2744886  09:45:11       1  car  583755.7174000004   \n2       other  2744886  12:47:53       2  car  584572.7879999997   \n3       other  2744886  15:50:35       3  car  582742.5109999999   \n4        home  2744886  23:59:59       4  car  585619.0985000003   \n\n             POINT_Y  dep_time    src  score trav_time  trav_time_min  \\\n0  6981072.204500001         0  input      0   0:00:00       0.000000   \n1  6987753.562399998  06:42:29  input      0   0:04:43       4.727474   \n2  6987384.729499999  09:45:11  input      0   0:04:43       4.727474   \n3  6989346.078499999  12:47:53  input      0   0:04:43       4.727474   \n4  6981072.204500001  15:50:35  input      0   0:04:43       4.727474   \n\n     act_time  \n0  222.498571  \n1  177.967666  \n2  177.967666  \n3  177.967666  \n4  664.688535  ",
      "text/html": "<div>\n<style scoped>\n    .dataframe tbody tr th:only-of-type {\n        vertical-align: middle;\n    }\n\n    .dataframe tbody tr th {\n        vertical-align: top;\n    }\n\n    .dataframe thead th {\n        text-align: right;\n    }\n</style>\n<table border=\"1\" class=\"dataframe\">\n  <thead>\n    <tr style=\"text-align: right;\">\n      <th></th>\n      <th>act_purpose</th>\n      <th>PId</th>\n      <th>act_end</th>\n      <th>act_id</th>\n      <th>mode</th>\n      <th>POINT_X</th>\n      <th>POINT_Y</th>\n      <th>dep_time</th>\n      <th>src</th>\n      <th>score</th>\n      <th>trav_time</th>\n      <th>trav_time_min</th>\n      <th>act_time</th>\n    </tr>\n  </thead>\n  <tbody>\n    <tr>\n      <th>0</th>\n      <td>home</td>\n      <td>2744886</td>\n      <td>06:42:29</td>\n      <td>0</td>\n      <td></td>\n      <td>585619.0985000003</td>\n      <td>6981072.204500001</td>\n      <td>0</td>\n      <td>input</td>\n      <td>0</td>\n      <td>0:00:00</td>\n      <td>0.000000</td>\n      <td>222.498571</td>\n    </tr>\n    <tr>\n      <th>1</th>\n      <td>other</td>\n      <td>2744886</td>\n      <td>09:45:11</td>\n      <td>1</td>\n      <td>car</td>\n      <td>583755.7174000004</td>\n      <td>6987753.562399998</td>\n      <td>06:42:29</td>\n      <td>input</td>\n      <td>0</td>\n      <td>0:04:43</td>\n      <td>4.727474</td>\n      <td>177.967666</td>\n    </tr>\n    <tr>\n      <th>2</th>\n      <td>other</td>\n      <td>2744886</td>\n      <td>12:47:53</td>\n      <td>2</td>\n      <td>car</td>\n      <td>584572.7879999997</td>\n      <td>6987384.729499999</td>\n      <td>09:45:11</td>\n      <td>input</td>\n      <td>0</td>\n      <td>0:04:43</td>\n      <td>4.727474</td>\n      <td>177.967666</td>\n    </tr>\n    <tr>\n      <th>3</th>\n      <td>other</td>\n      <td>2744886</td>\n      <td>15:50:35</td>\n      <td>3</td>\n      <td>car</td>\n      <td>582742.5109999999</td>\n      <td>6989346.078499999</td>\n      <td>12:47:53</td>\n      <td>input</td>\n      <td>0</td>\n      <td>0:04:43</td>\n      <td>4.727474</td>\n      <td>177.967666</td>\n    </tr>\n    <tr>\n      <th>4</th>\n      <td>home</td>\n      <td>2744886</td>\n      <td>23:59:59</td>\n      <td>4</td>\n      <td>car</td>\n      <td>585619.0985000003</td>\n      <td>6981072.204500001</td>\n      <td>15:50:35</td>\n      <td>input</td>\n      <td>0</td>\n      <td>0:04:43</td>\n      <td>4.727474</td>\n      <td>664.688535</td>\n    </tr>\n  </tbody>\n</table>\n</div>"
     },
     "execution_count": 7,
     "metadata": {},
     "output_type": "execute_result"
    }
   ],
   "source": [
    "df_tst = pd.merge(df_tst, \n",
    "                  df_plan_trav[['PId', 'act_id', 'trav_time', 'trav_time_min', 'act_time']], \n",
    "                  on=['PId', 'act_id'], how='left')\n",
    "df_tst.head()"
   ],
   "metadata": {
    "collapsed": false,
    "ExecuteTime": {
     "end_time": "2023-12-16T10:02:48.138425100Z",
     "start_time": "2023-12-16T10:02:47.989761600Z"
    }
   },
   "id": "8f49da7242e51faa"
  },
  {
   "cell_type": "markdown",
   "source": [
    "## 2. Load output data"
   ],
   "metadata": {
    "collapsed": false
   },
   "id": "53dc3769e3b7915c"
  },
  {
   "cell_type": "code",
   "execution_count": 8,
   "outputs": [
    {
     "data": {
      "text/plain": "Processing individual plan: 0it [00:00, ?it/s]",
      "application/vnd.jupyter.widget-view+json": {
       "version_major": 2,
       "version_minor": 0,
       "model_id": "f1845c22a4174d5c92bf4672be27c428"
      }
     },
     "metadata": {},
     "output_type": "display_data"
    }
   ],
   "source": [
    "output_file = 'dbs/scenarios/palt23/output/output_experienced_plans.xml.gz'\n",
    "plans = matsim.plan_reader(output_file)\n",
    "# Aggregate all individuals' plans\n",
    "df_output = workers.plans_summary(\n",
    "    pd.concat([workers.personplan2df(person, plan, output=True, experienced=True)\n",
    "               for person, plan in\n",
    "               tqdm(plans, desc='Processing individual plan')]))"
   ],
   "metadata": {
    "collapsed": false,
    "ExecuteTime": {
     "end_time": "2023-12-16T10:06:35.983256300Z",
     "start_time": "2023-12-16T10:02:48.072213800Z"
    }
   },
   "id": "c29875c7637e35a3"
  },
  {
   "cell_type": "code",
   "execution_count": 9,
   "outputs": [
    {
     "data": {
      "text/plain": "  act_purpose      PId    act_end  act_id mode            POINT_X  \\\n0        home  2744886   6.899722       0                       0   \n1       other  2744886   9.485278       1  car  583755.7174000004   \n2       other  2744886  12.255556       2  car  584572.7879999997   \n3       other  2744886  14.558889       3  car  582742.5109999999   \n4        home  2744886  23.999722       4  car  585619.0985000003   \n\n             POINT_Y   dep_time trav_time   distance       score  \\\n0                  0        0.0  00:00:00   0.000000  123.286245   \n1  6987753.562399998   6.899722  00:09:55  10.070987  123.286245   \n2  6987384.729499999   9.485278  00:02:41   1.265812  123.286245   \n3  6989346.078499999  12.255556  00:04:36   3.052609  123.286245   \n4  6981072.204500001  14.558889  00:19:13  11.981365  123.286245   \n\n   trav_time_min      speed    act_time     src  \n0       0.000000        NaN  413.983333  output  \n1       9.916667  60.933706  145.216667  output  \n2       2.683333  28.303874  163.533333  output  \n3       4.600000  39.816642  133.600000  output  \n4      19.216667  37.409293  547.233333  output  ",
      "text/html": "<div>\n<style scoped>\n    .dataframe tbody tr th:only-of-type {\n        vertical-align: middle;\n    }\n\n    .dataframe tbody tr th {\n        vertical-align: top;\n    }\n\n    .dataframe thead th {\n        text-align: right;\n    }\n</style>\n<table border=\"1\" class=\"dataframe\">\n  <thead>\n    <tr style=\"text-align: right;\">\n      <th></th>\n      <th>act_purpose</th>\n      <th>PId</th>\n      <th>act_end</th>\n      <th>act_id</th>\n      <th>mode</th>\n      <th>POINT_X</th>\n      <th>POINT_Y</th>\n      <th>dep_time</th>\n      <th>trav_time</th>\n      <th>distance</th>\n      <th>score</th>\n      <th>trav_time_min</th>\n      <th>speed</th>\n      <th>act_time</th>\n      <th>src</th>\n    </tr>\n  </thead>\n  <tbody>\n    <tr>\n      <th>0</th>\n      <td>home</td>\n      <td>2744886</td>\n      <td>6.899722</td>\n      <td>0</td>\n      <td></td>\n      <td>0</td>\n      <td>0</td>\n      <td>0.0</td>\n      <td>00:00:00</td>\n      <td>0.000000</td>\n      <td>123.286245</td>\n      <td>0.000000</td>\n      <td>NaN</td>\n      <td>413.983333</td>\n      <td>output</td>\n    </tr>\n    <tr>\n      <th>1</th>\n      <td>other</td>\n      <td>2744886</td>\n      <td>9.485278</td>\n      <td>1</td>\n      <td>car</td>\n      <td>583755.7174000004</td>\n      <td>6987753.562399998</td>\n      <td>6.899722</td>\n      <td>00:09:55</td>\n      <td>10.070987</td>\n      <td>123.286245</td>\n      <td>9.916667</td>\n      <td>60.933706</td>\n      <td>145.216667</td>\n      <td>output</td>\n    </tr>\n    <tr>\n      <th>2</th>\n      <td>other</td>\n      <td>2744886</td>\n      <td>12.255556</td>\n      <td>2</td>\n      <td>car</td>\n      <td>584572.7879999997</td>\n      <td>6987384.729499999</td>\n      <td>9.485278</td>\n      <td>00:02:41</td>\n      <td>1.265812</td>\n      <td>123.286245</td>\n      <td>2.683333</td>\n      <td>28.303874</td>\n      <td>163.533333</td>\n      <td>output</td>\n    </tr>\n    <tr>\n      <th>3</th>\n      <td>other</td>\n      <td>2744886</td>\n      <td>14.558889</td>\n      <td>3</td>\n      <td>car</td>\n      <td>582742.5109999999</td>\n      <td>6989346.078499999</td>\n      <td>12.255556</td>\n      <td>00:04:36</td>\n      <td>3.052609</td>\n      <td>123.286245</td>\n      <td>4.600000</td>\n      <td>39.816642</td>\n      <td>133.600000</td>\n      <td>output</td>\n    </tr>\n    <tr>\n      <th>4</th>\n      <td>home</td>\n      <td>2744886</td>\n      <td>23.999722</td>\n      <td>4</td>\n      <td>car</td>\n      <td>585619.0985000003</td>\n      <td>6981072.204500001</td>\n      <td>14.558889</td>\n      <td>00:19:13</td>\n      <td>11.981365</td>\n      <td>123.286245</td>\n      <td>19.216667</td>\n      <td>37.409293</td>\n      <td>547.233333</td>\n      <td>output</td>\n    </tr>\n  </tbody>\n</table>\n</div>"
     },
     "execution_count": 9,
     "metadata": {},
     "output_type": "execute_result"
    }
   ],
   "source": [
    "df_output.PId = df_output.PId.astype(str)\n",
    "df_tst_o = df_output.loc[df_output.PId.isin(df_tst.PId.unique()), :]\n",
    "df_tst_o.head()"
   ],
   "metadata": {
    "collapsed": false,
    "ExecuteTime": {
     "end_time": "2023-12-16T10:06:36.123886200Z",
     "start_time": "2023-12-16T10:06:35.983256300Z"
    }
   },
   "id": "e22c4e9f22e05370"
  },
  {
   "cell_type": "markdown",
   "source": [
    "### 2.1 Fill in distance and speed back to the input plans"
   ],
   "metadata": {
    "collapsed": false
   },
   "id": "6d425bdccc23d804"
  },
  {
   "cell_type": "code",
   "execution_count": 11,
   "outputs": [
    {
     "data": {
      "text/plain": "  act_purpose      PId   act_end  act_id mode            POINT_X  \\\n0        home  2744886  06:42:29       0       585619.0985000003   \n1       other  2744886  09:45:11       1  car  583755.7174000004   \n2       other  2744886  12:47:53       2  car  584572.7879999997   \n3       other  2744886  15:50:35       3  car  582742.5109999999   \n4        home  2744886  23:59:59       4  car  585619.0985000003   \n\n             POINT_Y  dep_time    src  score trav_time  trav_time_min  \\\n0  6981072.204500001         0  input      0   0:00:00       0.000000   \n1  6987753.562399998  06:42:29  input      0   0:04:43       4.727474   \n2  6987384.729499999  09:45:11  input      0   0:04:43       4.727474   \n3  6989346.078499999  12:47:53  input      0   0:04:43       4.727474   \n4  6981072.204500001  15:50:35  input      0   0:04:43       4.727474   \n\n     act_time   distance  \n0  222.498571   0.000000  \n1  177.967666  10.070987  \n2  177.967666   1.265812  \n3  177.967666   3.052609  \n4  664.688535  11.981365  ",
      "text/html": "<div>\n<style scoped>\n    .dataframe tbody tr th:only-of-type {\n        vertical-align: middle;\n    }\n\n    .dataframe tbody tr th {\n        vertical-align: top;\n    }\n\n    .dataframe thead th {\n        text-align: right;\n    }\n</style>\n<table border=\"1\" class=\"dataframe\">\n  <thead>\n    <tr style=\"text-align: right;\">\n      <th></th>\n      <th>act_purpose</th>\n      <th>PId</th>\n      <th>act_end</th>\n      <th>act_id</th>\n      <th>mode</th>\n      <th>POINT_X</th>\n      <th>POINT_Y</th>\n      <th>dep_time</th>\n      <th>src</th>\n      <th>score</th>\n      <th>trav_time</th>\n      <th>trav_time_min</th>\n      <th>act_time</th>\n      <th>distance</th>\n    </tr>\n  </thead>\n  <tbody>\n    <tr>\n      <th>0</th>\n      <td>home</td>\n      <td>2744886</td>\n      <td>06:42:29</td>\n      <td>0</td>\n      <td></td>\n      <td>585619.0985000003</td>\n      <td>6981072.204500001</td>\n      <td>0</td>\n      <td>input</td>\n      <td>0</td>\n      <td>0:00:00</td>\n      <td>0.000000</td>\n      <td>222.498571</td>\n      <td>0.000000</td>\n    </tr>\n    <tr>\n      <th>1</th>\n      <td>other</td>\n      <td>2744886</td>\n      <td>09:45:11</td>\n      <td>1</td>\n      <td>car</td>\n      <td>583755.7174000004</td>\n      <td>6987753.562399998</td>\n      <td>06:42:29</td>\n      <td>input</td>\n      <td>0</td>\n      <td>0:04:43</td>\n      <td>4.727474</td>\n      <td>177.967666</td>\n      <td>10.070987</td>\n    </tr>\n    <tr>\n      <th>2</th>\n      <td>other</td>\n      <td>2744886</td>\n      <td>12:47:53</td>\n      <td>2</td>\n      <td>car</td>\n      <td>584572.7879999997</td>\n      <td>6987384.729499999</td>\n      <td>09:45:11</td>\n      <td>input</td>\n      <td>0</td>\n      <td>0:04:43</td>\n      <td>4.727474</td>\n      <td>177.967666</td>\n      <td>1.265812</td>\n    </tr>\n    <tr>\n      <th>3</th>\n      <td>other</td>\n      <td>2744886</td>\n      <td>15:50:35</td>\n      <td>3</td>\n      <td>car</td>\n      <td>582742.5109999999</td>\n      <td>6989346.078499999</td>\n      <td>12:47:53</td>\n      <td>input</td>\n      <td>0</td>\n      <td>0:04:43</td>\n      <td>4.727474</td>\n      <td>177.967666</td>\n      <td>3.052609</td>\n    </tr>\n    <tr>\n      <th>4</th>\n      <td>home</td>\n      <td>2744886</td>\n      <td>23:59:59</td>\n      <td>4</td>\n      <td>car</td>\n      <td>585619.0985000003</td>\n      <td>6981072.204500001</td>\n      <td>15:50:35</td>\n      <td>input</td>\n      <td>0</td>\n      <td>0:04:43</td>\n      <td>4.727474</td>\n      <td>664.688535</td>\n      <td>11.981365</td>\n    </tr>\n  </tbody>\n</table>\n</div>"
     },
     "execution_count": 11,
     "metadata": {},
     "output_type": "execute_result"
    }
   ],
   "source": [
    "df_tst = pd.merge(df_tst, df_tst_o[['PId', 'act_id', 'distance']], on=['PId', 'act_id'])\n",
    "df_tst.head()"
   ],
   "metadata": {
    "collapsed": false,
    "ExecuteTime": {
     "end_time": "2023-12-16T10:08:58.066990300Z",
     "start_time": "2023-12-16T10:08:57.942360600Z"
    }
   },
   "id": "256a30584275cb4c"
  },
  {
   "cell_type": "code",
   "execution_count": 12,
   "outputs": [],
   "source": [
    "df_tst.loc[:, 'speed'] = df_tst.loc[:, 'distance'] / (df_tst.loc[:, 'trav_time_min'] / 60)  # in km/h"
   ],
   "metadata": {
    "collapsed": false,
    "ExecuteTime": {
     "end_time": "2023-12-16T10:08:59.167579600Z",
     "start_time": "2023-12-16T10:08:59.073486900Z"
    }
   },
   "id": "1e753d15ec5bf352"
  },
  {
   "cell_type": "markdown",
   "source": [
    "## 3. Combine input and output"
   ],
   "metadata": {
    "collapsed": false
   },
   "id": "43dd97f391298c82"
  },
  {
   "cell_type": "code",
   "execution_count": 13,
   "outputs": [
    {
     "data": {
      "text/plain": "  act_purpose      PId   act_end  act_id mode            POINT_X  \\\n0        home  2744886  06:42:29       0       585619.0985000003   \n1       other  2744886  09:45:11       1  car  583755.7174000004   \n2       other  2744886  12:47:53       2  car  584572.7879999997   \n3       other  2744886  15:50:35       3  car  582742.5109999999   \n4        home  2744886  23:59:59       4  car  585619.0985000003   \n\n             POINT_Y  dep_time    src  score trav_time  trav_time_min  \\\n0  6981072.204500001         0  input    0.0   0:00:00       0.000000   \n1  6987753.562399998  06:42:29  input    0.0   0:04:43       4.727474   \n2  6987384.729499999  09:45:11  input    0.0   0:04:43       4.727474   \n3  6989346.078499999  12:47:53  input    0.0   0:04:43       4.727474   \n4  6981072.204500001  15:50:35  input    0.0   0:04:43       4.727474   \n\n     act_time   distance       speed  \n0  222.498571   0.000000         NaN  \n1  177.967666  10.070987  127.818632  \n2  177.967666   1.265812   16.065394  \n3  177.967666   3.052609   38.743007  \n4  664.688535  11.981365  152.064702  ",
      "text/html": "<div>\n<style scoped>\n    .dataframe tbody tr th:only-of-type {\n        vertical-align: middle;\n    }\n\n    .dataframe tbody tr th {\n        vertical-align: top;\n    }\n\n    .dataframe thead th {\n        text-align: right;\n    }\n</style>\n<table border=\"1\" class=\"dataframe\">\n  <thead>\n    <tr style=\"text-align: right;\">\n      <th></th>\n      <th>act_purpose</th>\n      <th>PId</th>\n      <th>act_end</th>\n      <th>act_id</th>\n      <th>mode</th>\n      <th>POINT_X</th>\n      <th>POINT_Y</th>\n      <th>dep_time</th>\n      <th>src</th>\n      <th>score</th>\n      <th>trav_time</th>\n      <th>trav_time_min</th>\n      <th>act_time</th>\n      <th>distance</th>\n      <th>speed</th>\n    </tr>\n  </thead>\n  <tbody>\n    <tr>\n      <th>0</th>\n      <td>home</td>\n      <td>2744886</td>\n      <td>06:42:29</td>\n      <td>0</td>\n      <td></td>\n      <td>585619.0985000003</td>\n      <td>6981072.204500001</td>\n      <td>0</td>\n      <td>input</td>\n      <td>0.0</td>\n      <td>0:00:00</td>\n      <td>0.000000</td>\n      <td>222.498571</td>\n      <td>0.000000</td>\n      <td>NaN</td>\n    </tr>\n    <tr>\n      <th>1</th>\n      <td>other</td>\n      <td>2744886</td>\n      <td>09:45:11</td>\n      <td>1</td>\n      <td>car</td>\n      <td>583755.7174000004</td>\n      <td>6987753.562399998</td>\n      <td>06:42:29</td>\n      <td>input</td>\n      <td>0.0</td>\n      <td>0:04:43</td>\n      <td>4.727474</td>\n      <td>177.967666</td>\n      <td>10.070987</td>\n      <td>127.818632</td>\n    </tr>\n    <tr>\n      <th>2</th>\n      <td>other</td>\n      <td>2744886</td>\n      <td>12:47:53</td>\n      <td>2</td>\n      <td>car</td>\n      <td>584572.7879999997</td>\n      <td>6987384.729499999</td>\n      <td>09:45:11</td>\n      <td>input</td>\n      <td>0.0</td>\n      <td>0:04:43</td>\n      <td>4.727474</td>\n      <td>177.967666</td>\n      <td>1.265812</td>\n      <td>16.065394</td>\n    </tr>\n    <tr>\n      <th>3</th>\n      <td>other</td>\n      <td>2744886</td>\n      <td>15:50:35</td>\n      <td>3</td>\n      <td>car</td>\n      <td>582742.5109999999</td>\n      <td>6989346.078499999</td>\n      <td>12:47:53</td>\n      <td>input</td>\n      <td>0.0</td>\n      <td>0:04:43</td>\n      <td>4.727474</td>\n      <td>177.967666</td>\n      <td>3.052609</td>\n      <td>38.743007</td>\n    </tr>\n    <tr>\n      <th>4</th>\n      <td>home</td>\n      <td>2744886</td>\n      <td>23:59:59</td>\n      <td>4</td>\n      <td>car</td>\n      <td>585619.0985000003</td>\n      <td>6981072.204500001</td>\n      <td>15:50:35</td>\n      <td>input</td>\n      <td>0.0</td>\n      <td>0:04:43</td>\n      <td>4.727474</td>\n      <td>664.688535</td>\n      <td>11.981365</td>\n      <td>152.064702</td>\n    </tr>\n  </tbody>\n</table>\n</div>"
     },
     "execution_count": 13,
     "metadata": {},
     "output_type": "execute_result"
    }
   ],
   "source": [
    "df = pd.concat([df_tst, df_tst_o])\n",
    "df.head()"
   ],
   "metadata": {
    "collapsed": false,
    "ExecuteTime": {
     "end_time": "2023-12-16T10:09:00.589982400Z",
     "start_time": "2023-12-16T10:09:00.490096300Z"
    }
   },
   "id": "95a85a3b7cdbe00d"
  },
  {
   "cell_type": "code",
   "execution_count": 14,
   "outputs": [
    {
     "data": {
      "text/plain": "act_purpose       object\nPId               object\nact_end           object\nact_id             int64\nmode              object\nPOINT_X           object\nPOINT_Y           object\ndep_time          object\nsrc               object\nscore            float64\ntrav_time         object\ntrav_time_min    float64\nact_time         float64\ndistance         float64\nspeed            float64\ndtype: object"
     },
     "execution_count": 14,
     "metadata": {},
     "output_type": "execute_result"
    }
   ],
   "source": [
    "df.dtypes"
   ],
   "metadata": {
    "collapsed": false,
    "ExecuteTime": {
     "end_time": "2023-12-16T10:09:01.120815800Z",
     "start_time": "2023-12-16T10:09:01.026719700Z"
    }
   },
   "id": "3a2f6600ad3e2a25"
  },
  {
   "cell_type": "code",
   "execution_count": null,
   "outputs": [],
   "source": [],
   "metadata": {
    "collapsed": false
   },
   "id": "d4ac5641d0263646"
  }
 ],
 "metadata": {
  "kernelspec": {
   "display_name": "Python 3",
   "language": "python",
   "name": "python3"
  },
  "language_info": {
   "codemirror_mode": {
    "name": "ipython",
    "version": 2
   },
   "file_extension": ".py",
   "mimetype": "text/x-python",
   "name": "python",
   "nbconvert_exporter": "python",
   "pygments_lexer": "ipython2",
   "version": "2.7.6"
  }
 },
 "nbformat": 4,
 "nbformat_minor": 5
}
