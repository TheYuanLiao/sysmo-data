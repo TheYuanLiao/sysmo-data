{
 "cells": [
  {
   "cell_type": "markdown",
   "source": [
    "# Infeasible agents for all regions"
   ],
   "metadata": {
    "collapsed": false
   },
   "id": "cf2f78359fe61cd9"
  },
  {
   "cell_type": "code",
   "execution_count": 1,
   "outputs": [],
   "source": [
    "import pandas as pd"
   ],
   "metadata": {
    "collapsed": false
   },
   "id": "f2e4f9a0"
  },
  {
   "cell_type": "code",
   "execution_count": 2,
   "id": "d925ee90",
   "metadata": {},
   "outputs": [],
   "source": [
    "df1 = pd.read_csv('plans_palt20_infeasible_agents.csv')\n",
    "df2 = pd.read_csv('plans_palt21_infeasible_agents.csv')\n",
    "df3 = pd.read_csv('plans_palt22_infeasible_agents.csv')\n",
    "df4 = pd.read_csv('plans_palt23_infeasible_agents.csv')\n",
    "df5 = pd.read_csv('plans_palt24_infeasible_agents.csv')\n",
    "df6 = pd.read_csv('plans_palt25_infeasible_agents.csv')\n",
    "df7 = pd.read_csv('plans_vast13_infeasible_agents.csv')\n",
    "df8 = pd.read_csv('plans_vast14_infeasible_agents.csv')\n",
    "df9 = pd.read_csv('plans_vast17_infeasible_agents.csv')\n",
    "df10 = pd.read_csv('plans_samm_infeasible_agents.csv')\n",
    "df11 = pd.read_csv('plans_skane_infeasible_agents.csv')\n",
    "df12 = pd.read_csv('plans_sydost_infeasible_agents.csv')"
   ]
  },
  {
   "cell_type": "code",
   "execution_count": 3,
   "id": "40cb0cae",
   "metadata": {},
   "outputs": [],
   "source": [
    "combined_df = pd.concat([df1, df2, df3, df4, df5, df6, df7, df8, df9, df10, df11, df12], ignore_index=True)"
   ]
  },
  {
   "cell_type": "code",
   "execution_count": 4,
   "id": "a958477a",
   "metadata": {},
   "outputs": [],
   "source": [
    "combined_df.to_csv('combined_Sweden_Infeasible_Agents.csv', index=False)"
   ]
  },
  {
   "cell_type": "code",
   "execution_count": 5,
   "id": "12cb2f5d",
   "metadata": {},
   "outputs": [
    {
     "data": {
      "text/html": [
       "<div>\n",
       "<style scoped>\n",
       "    .dataframe tbody tr th:only-of-type {\n",
       "        vertical-align: middle;\n",
       "    }\n",
       "\n",
       "    .dataframe tbody tr th {\n",
       "        vertical-align: top;\n",
       "    }\n",
       "\n",
       "    .dataframe thead th {\n",
       "        text-align: right;\n",
       "    }\n",
       "</style>\n",
       "<table border=\"1\" class=\"dataframe\">\n",
       "  <thead>\n",
       "    <tr style=\"text-align: right;\">\n",
       "      <th></th>\n",
       "      <th>PId</th>\n",
       "      <th>region</th>\n",
       "    </tr>\n",
       "  </thead>\n",
       "  <tbody>\n",
       "    <tr>\n",
       "      <th>0</th>\n",
       "      <td>2563211</td>\n",
       "      <td>palt20</td>\n",
       "    </tr>\n",
       "    <tr>\n",
       "      <th>1</th>\n",
       "      <td>2563286</td>\n",
       "      <td>palt20</td>\n",
       "    </tr>\n",
       "    <tr>\n",
       "      <th>2</th>\n",
       "      <td>2563287</td>\n",
       "      <td>palt20</td>\n",
       "    </tr>\n",
       "    <tr>\n",
       "      <th>3</th>\n",
       "      <td>2563291</td>\n",
       "      <td>palt20</td>\n",
       "    </tr>\n",
       "    <tr>\n",
       "      <th>4</th>\n",
       "      <td>2563298</td>\n",
       "      <td>palt20</td>\n",
       "    </tr>\n",
       "    <tr>\n",
       "      <th>...</th>\n",
       "      <td>...</td>\n",
       "      <td>...</td>\n",
       "    </tr>\n",
       "    <tr>\n",
       "      <th>298562</th>\n",
       "      <td>10196267</td>\n",
       "      <td>sydost</td>\n",
       "    </tr>\n",
       "    <tr>\n",
       "      <th>298563</th>\n",
       "      <td>10196358</td>\n",
       "      <td>sydost</td>\n",
       "    </tr>\n",
       "    <tr>\n",
       "      <th>298564</th>\n",
       "      <td>10196407</td>\n",
       "      <td>sydost</td>\n",
       "    </tr>\n",
       "    <tr>\n",
       "      <th>298565</th>\n",
       "      <td>10196476</td>\n",
       "      <td>sydost</td>\n",
       "    </tr>\n",
       "    <tr>\n",
       "      <th>298566</th>\n",
       "      <td>10196502</td>\n",
       "      <td>sydost</td>\n",
       "    </tr>\n",
       "  </tbody>\n",
       "</table>\n",
       "<p>298567 rows × 2 columns</p>\n",
       "</div>"
      ],
      "text/plain": [
       "             PId  region\n",
       "0        2563211  palt20\n",
       "1        2563286  palt20\n",
       "2        2563287  palt20\n",
       "3        2563291  palt20\n",
       "4        2563298  palt20\n",
       "...          ...     ...\n",
       "298562  10196267  sydost\n",
       "298563  10196358  sydost\n",
       "298564  10196407  sydost\n",
       "298565  10196476  sydost\n",
       "298566  10196502  sydost\n",
       "\n",
       "[298567 rows x 2 columns]"
      ]
     },
     "execution_count": 5,
     "metadata": {},
     "output_type": "execute_result"
    }
   ],
   "source": [
    "df = pd.read_csv('combined_Sweden_Infeasible_Agents.csv')\n",
    "df"
   ]
  },
  {
   "cell_type": "code",
   "execution_count": 6,
   "id": "1d7d0100",
   "metadata": {},
   "outputs": [],
   "source": [
    "df['agent_status'] = 'infeasible'"
   ]
  },
  {
   "cell_type": "code",
   "execution_count": 7,
   "id": "89b5b020",
   "metadata": {},
   "outputs": [
    {
     "data": {
      "text/html": [
       "<div>\n",
       "<style scoped>\n",
       "    .dataframe tbody tr th:only-of-type {\n",
       "        vertical-align: middle;\n",
       "    }\n",
       "\n",
       "    .dataframe tbody tr th {\n",
       "        vertical-align: top;\n",
       "    }\n",
       "\n",
       "    .dataframe thead th {\n",
       "        text-align: right;\n",
       "    }\n",
       "</style>\n",
       "<table border=\"1\" class=\"dataframe\">\n",
       "  <thead>\n",
       "    <tr style=\"text-align: right;\">\n",
       "      <th></th>\n",
       "      <th>PId</th>\n",
       "      <th>region</th>\n",
       "      <th>agent_status</th>\n",
       "    </tr>\n",
       "  </thead>\n",
       "  <tbody>\n",
       "    <tr>\n",
       "      <th>0</th>\n",
       "      <td>2563211</td>\n",
       "      <td>palt20</td>\n",
       "      <td>infeasible</td>\n",
       "    </tr>\n",
       "    <tr>\n",
       "      <th>1</th>\n",
       "      <td>2563286</td>\n",
       "      <td>palt20</td>\n",
       "      <td>infeasible</td>\n",
       "    </tr>\n",
       "    <tr>\n",
       "      <th>2</th>\n",
       "      <td>2563287</td>\n",
       "      <td>palt20</td>\n",
       "      <td>infeasible</td>\n",
       "    </tr>\n",
       "    <tr>\n",
       "      <th>3</th>\n",
       "      <td>2563291</td>\n",
       "      <td>palt20</td>\n",
       "      <td>infeasible</td>\n",
       "    </tr>\n",
       "    <tr>\n",
       "      <th>4</th>\n",
       "      <td>2563298</td>\n",
       "      <td>palt20</td>\n",
       "      <td>infeasible</td>\n",
       "    </tr>\n",
       "    <tr>\n",
       "      <th>...</th>\n",
       "      <td>...</td>\n",
       "      <td>...</td>\n",
       "      <td>...</td>\n",
       "    </tr>\n",
       "    <tr>\n",
       "      <th>298562</th>\n",
       "      <td>10196267</td>\n",
       "      <td>sydost</td>\n",
       "      <td>infeasible</td>\n",
       "    </tr>\n",
       "    <tr>\n",
       "      <th>298563</th>\n",
       "      <td>10196358</td>\n",
       "      <td>sydost</td>\n",
       "      <td>infeasible</td>\n",
       "    </tr>\n",
       "    <tr>\n",
       "      <th>298564</th>\n",
       "      <td>10196407</td>\n",
       "      <td>sydost</td>\n",
       "      <td>infeasible</td>\n",
       "    </tr>\n",
       "    <tr>\n",
       "      <th>298565</th>\n",
       "      <td>10196476</td>\n",
       "      <td>sydost</td>\n",
       "      <td>infeasible</td>\n",
       "    </tr>\n",
       "    <tr>\n",
       "      <th>298566</th>\n",
       "      <td>10196502</td>\n",
       "      <td>sydost</td>\n",
       "      <td>infeasible</td>\n",
       "    </tr>\n",
       "  </tbody>\n",
       "</table>\n",
       "<p>298567 rows × 3 columns</p>\n",
       "</div>"
      ],
      "text/plain": [
       "             PId  region agent_status\n",
       "0        2563211  palt20   infeasible\n",
       "1        2563286  palt20   infeasible\n",
       "2        2563287  palt20   infeasible\n",
       "3        2563291  palt20   infeasible\n",
       "4        2563298  palt20   infeasible\n",
       "...          ...     ...          ...\n",
       "298562  10196267  sydost   infeasible\n",
       "298563  10196358  sydost   infeasible\n",
       "298564  10196407  sydost   infeasible\n",
       "298565  10196476  sydost   infeasible\n",
       "298566  10196502  sydost   infeasible\n",
       "\n",
       "[298567 rows x 3 columns]"
      ]
     },
     "execution_count": 7,
     "metadata": {},
     "output_type": "execute_result"
    }
   ],
   "source": [
    "df"
   ]
  },
  {
   "cell_type": "code",
   "execution_count": 8,
   "id": "0c9a90a8",
   "metadata": {},
   "outputs": [],
   "source": [
    "df.to_csv('combined_Sweden_Infeasible_Agents.csv', index=False)      #writing to the file containing infeasible agents only"
   ]
  },
  {
   "cell_type": "code",
   "execution_count": null,
   "id": "4b244285",
   "metadata": {},
   "outputs": [],
   "source": []
  }
 ],
 "metadata": {
  "kernelspec": {
   "display_name": "Python 3 (ipykernel)",
   "language": "python",
   "name": "python3"
  },
  "language_info": {
   "codemirror_mode": {
    "name": "ipython",
    "version": 3
   },
   "file_extension": ".py",
   "mimetype": "text/x-python",
   "name": "python",
   "nbconvert_exporter": "python",
   "pygments_lexer": "ipython3",
   "version": "3.11.5"
  }
 },
 "nbformat": 4,
 "nbformat_minor": 5
}
