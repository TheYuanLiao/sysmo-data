{
 "cells": [
  {
   "cell_type": "markdown",
   "source": [
    "# Describe data products\n",
    "1. Synthetic population attributes\n",
    "2. Activity plans\n",
    "3. Car agents' driving trajectories\n",
    "4. Road network"
   ],
   "metadata": {
    "collapsed": false
   },
   "id": "33289ba7efb06edf"
  },
  {
   "cell_type": "code",
   "execution_count": 1,
   "outputs": [
    {
     "name": "stdout",
     "output_type": "stream",
     "text": [
      "D:\\sysmo-data\n"
     ]
    }
   ],
   "source": [
    "%load_ext autoreload\n",
    "%autoreload 2\n",
    "%cd D:\\sysmo-data\n",
    "%matplotlib inline"
   ],
   "metadata": {
    "collapsed": false,
    "ExecuteTime": {
     "end_time": "2024-02-15T13:17:48.308190300Z",
     "start_time": "2024-02-15T13:17:47.291094600Z"
    }
   },
   "id": "3bcc246d7e742710"
  },
  {
   "cell_type": "code",
   "execution_count": 2,
   "outputs": [],
   "source": [
    "from tqdm.notebook import tqdm\n",
    "import pandas as pd\n",
    "import pickle\n",
    "import os\n",
    "os.environ['USE_PYGEOS'] = '0'\n",
    "import geopandas as gpd"
   ],
   "metadata": {
    "collapsed": false,
    "ExecuteTime": {
     "end_time": "2024-02-15T13:17:49.591192200Z",
     "start_time": "2024-02-15T13:17:48.279904100Z"
    }
   },
   "id": "8b529eb69a00f281"
  },
  {
   "cell_type": "markdown",
   "source": [
    "## 1. Synthetic agents"
   ],
   "metadata": {
    "collapsed": false
   },
   "id": "f80a0a99d4b387e6"
  },
  {
   "cell_type": "code",
   "execution_count": 4,
   "outputs": [
    {
     "name": "stdout",
     "output_type": "stream",
     "text": [
      "   PId       Deso kommun marital  sex  age  HId  HHtype  HHsize  num_babies  \\\n",
      "0    1  0115A0040   0115  couple    1   22    1  couple       2           0   \n",
      "1    2  0115A0040   0115  couple    0   20    1  couple       2           0   \n",
      "2    3  0115A0040   0115  couple    0   21    2  couple       2           0   \n",
      "3    4  0115A0040   0115  couple    1   20    2  couple       2           0   \n",
      "4    5  0115A0040   0115  couple    0   21    3  couple       2           0   \n",
      "\n",
      "   employment  studenthood  income_class  num_cars  HHcars         region  \\\n",
      "0           1            0             1         0       0  non_car_agent   \n",
      "1           0            1             0         0       0  non_car_agent   \n",
      "2           1            1             2         1       2           samm   \n",
      "3           1            0             4         1       2           samm   \n",
      "4           1            0             2         1       1           samm   \n",
      "\n",
      "    agent_status  \n",
      "0  non_car_agent  \n",
      "1  non_car_agent  \n",
      "2       feasible  \n",
      "3     infeasible  \n",
      "4       feasible  \n"
     ]
    }
   ],
   "source": [
    "df_pop = pd.read_parquet('dbs/results/syn_pop_all.parquet')\n",
    "print(df_pop.head())"
   ],
   "metadata": {
    "collapsed": false,
    "ExecuteTime": {
     "end_time": "2024-02-15T13:33:19.848870600Z",
     "start_time": "2024-02-15T13:33:16.382757Z"
    }
   },
   "id": "5899c85085dfa981"
  },
  {
   "cell_type": "code",
   "execution_count": 5,
   "outputs": [
    {
     "data": {
      "text/plain": "agent_status\nfeasible         2678156\ninfeasible        272224\nnon_car_agent    6455478\nstationary        797962\ndtype: int64"
     },
     "execution_count": 5,
     "metadata": {},
     "output_type": "execute_result"
    }
   ],
   "source": [
    "df_pop.groupby('agent_status').size()"
   ],
   "metadata": {
    "collapsed": false,
    "ExecuteTime": {
     "end_time": "2024-02-15T13:33:20.556215900Z",
     "start_time": "2024-02-15T13:33:19.833254900Z"
    }
   },
   "id": "1ed50f2c70f5d08d"
  },
  {
   "cell_type": "markdown",
   "source": [
    "## 2. Activity plans"
   ],
   "metadata": {
    "collapsed": false
   },
   "id": "ef9579ec98a3a32a"
  },
  {
   "cell_type": "code",
   "execution_count": 3,
   "outputs": [
    {
     "name": "stdout",
     "output_type": "stream",
     "text": [
      "  act_purpose       PId   act_end  act_id  mode      POINT_X       POINT_Y  \\\n",
      "0        home  10000583  17:04:05       0  None  567373.5540  6.666963e+06   \n",
      "1       other  10000583  17:23:44       1   car  567594.5586  6.667401e+06   \n",
      "2        home  10000583  20:45:40       2   car  567373.5540  6.666963e+06   \n",
      "3       other  10000583  21:19:24       3   car  568609.6899  6.667328e+06   \n",
      "4        home  10000583  23:59:58       4   car  567373.5540  6.666963e+06   \n",
      "\n",
      "   dep_time     score trav_time  trav_time_min     act_time  distance  \\\n",
      "0   0:00:00  85.90108  00:00:00       0.000000  1024.100000  0.000000   \n",
      "1  17:04:05  85.90108  00:04:21       4.350000    15.300000  1.855747   \n",
      "2  17:23:44  85.90108  00:05:00       5.000000   196.933333  1.917558   \n",
      "3  20:45:40  85.90108  00:07:33       7.550000    26.166667  3.932365   \n",
      "4  21:19:24  85.90108  00:06:04       6.066667   154.516667  3.647378   \n",
      "\n",
      "       speed  region  \n",
      "0        NaN  palt20  \n",
      "1  25.596516  palt20  \n",
      "2  23.010694  palt20  \n",
      "3  31.250580  palt20  \n",
      "4  36.072968  palt20  \n"
     ]
    }
   ],
   "source": [
    "df_plans = pd.read_parquet('dbs/results/plans.parquet')\n",
    "print(df_plans.head())"
   ],
   "metadata": {
    "collapsed": false,
    "ExecuteTime": {
     "end_time": "2024-02-10T12:02:16.117798700Z",
     "start_time": "2024-02-10T12:02:10.099052500Z"
    }
   },
   "id": "f5b413e959e46f4c"
  },
  {
   "cell_type": "markdown",
   "source": [
    "## 3. Car agents' driving trajectories\n",
    "All files are under events folder where each region's data is divided into 7 batches by individual agents."
   ],
   "metadata": {
    "collapsed": false
   },
   "id": "34c9a526c11a3c11"
  },
  {
   "cell_type": "code",
   "execution_count": 10,
   "outputs": [
    {
     "name": "stdout",
     "output_type": "stream",
     "text": [
      "      time                    type    person            link     vehicle  \\\n",
      "0  48370.0                  actend  10000585  4878076920006f         NaN   \n",
      "1  48371.0  vehicle enters traffic  10000585  4878076920006f  10000585.0   \n",
      "2  48372.0               left link  10000585  4878076920006f  10000585.0   \n",
      "3  48411.0               left link  10000585   363342740022f  10000585.0   \n",
      "4  48445.0               left link  10000585   363342740024f  10000585.0   \n",
      "\n",
      "   batch   from_node     to_node  region  \n",
      "0      0  1194530371  4802203686  palt20  \n",
      "1      0  1194530371  4802203686  palt20  \n",
      "2      0  1194530371  4802203686  palt20  \n",
      "3      0  4802203686   801992720  palt20  \n",
      "4      0   801992720  4802203651  palt20  \n"
     ]
    }
   ],
   "source": [
    "df_traj = pd.read_parquet('dbs/results/events/palt20_events_batch0.parquet')\n",
    "print(df_traj.head())"
   ],
   "metadata": {
    "collapsed": false,
    "ExecuteTime": {
     "end_time": "2024-02-06T19:35:38.392539800Z",
     "start_time": "2024-02-06T19:35:37.184620200Z"
    }
   },
   "id": "ab070c7dcc712e0e"
  },
  {
   "cell_type": "markdown",
   "source": [
    "## 4. Road network \n",
    "With geometry corresponding to 'link' column in the trajectories."
   ],
   "metadata": {
    "collapsed": false
   },
   "id": "5069b90447b21fe3"
  },
  {
   "cell_type": "code",
   "execution_count": null,
   "outputs": [],
   "source": [
    "gdf_network = gpd.read_file('dbs/results/network_o/network_o.shp')\n",
    "print(gdf_network.head())"
   ],
   "metadata": {
    "collapsed": false,
    "is_executing": true,
    "ExecuteTime": {
     "start_time": "2024-02-06T19:35:38.392539800Z"
    }
   },
   "id": "2ea6c87d89340984"
  },
  {
   "cell_type": "code",
   "execution_count": null,
   "outputs": [],
   "source": [],
   "metadata": {
    "collapsed": false
   },
   "id": "4b9c827a82f38e66"
  }
 ],
 "metadata": {
  "kernelspec": {
   "display_name": "Python 3",
   "language": "python",
   "name": "python3"
  },
  "language_info": {
   "codemirror_mode": {
    "name": "ipython",
    "version": 2
   },
   "file_extension": ".py",
   "mimetype": "text/x-python",
   "name": "python",
   "nbconvert_exporter": "python",
   "pygments_lexer": "ipython2",
   "version": "2.7.6"
  }
 },
 "nbformat": 4,
 "nbformat_minor": 5
}
