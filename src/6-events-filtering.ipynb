{
 "cells": [
  {
   "cell_type": "markdown",
   "source": [
    "# Events filtering\n",
    "1. Create data with feasible agents;\n",
    "2. Reproject events to make sure link_osm and link_id are consistent."
   ],
   "metadata": {
    "collapsed": false
   },
   "id": "cbba8a86f00fefb6"
  },
  {
   "cell_type": "code",
   "execution_count": 1,
   "outputs": [
    {
     "name": "stdout",
     "output_type": "stream",
     "text": [
      "D:\\sysmo-data\n"
     ]
    }
   ],
   "source": [
    "%load_ext autoreload\n",
    "%autoreload 2\n",
    "%cd D:\\sysmo-data\n",
    "%matplotlib inline"
   ],
   "metadata": {
    "collapsed": false,
    "ExecuteTime": {
     "end_time": "2024-02-10T12:10:04.554321500Z",
     "start_time": "2024-02-10T12:10:04.358530400Z"
    }
   },
   "id": "21b6ea1045bc0dd3"
  },
  {
   "cell_type": "code",
   "execution_count": 2,
   "outputs": [],
   "source": [
    "from tqdm.notebook import tqdm\n",
    "import pandas as pd\n",
    "import pickle\n",
    "import os\n",
    "os.environ['USE_PYGEOS'] = '0'\n",
    "import geopandas as gpd"
   ],
   "metadata": {
    "collapsed": false,
    "ExecuteTime": {
     "end_time": "2024-02-10T12:10:05.054356300Z",
     "start_time": "2024-02-10T12:10:04.522706200Z"
    }
   },
   "id": "659bb436be3e6804"
  },
  {
   "cell_type": "markdown",
   "source": [
    "## 1. Load feasible agent IDs"
   ],
   "metadata": {
    "collapsed": false
   },
   "id": "aac935327bb8365d"
  },
  {
   "cell_type": "code",
   "execution_count": 3,
   "outputs": [
    {
     "data": {
      "text/plain": "2956648"
     },
     "execution_count": 3,
     "metadata": {},
     "output_type": "execute_result"
    }
   ],
   "source": [
    "df_id = pd.read_csv('dbs/results/combined_Sweden_all_unique_agents.csv')\n",
    "feasible_agents = df_id.loc[df_id.agent_status == 'feasible', 'PId'].unique()\n",
    "len(feasible_agents)"
   ],
   "metadata": {
    "collapsed": false,
    "ExecuteTime": {
     "end_time": "2024-02-10T12:10:06.257451400Z",
     "start_time": "2024-02-10T12:10:05.054356300Z"
    }
   },
   "id": "10438fd69dfd1944"
  },
  {
   "cell_type": "code",
   "execution_count": 4,
   "outputs": [
    {
     "data": {
      "text/plain": "  0%|          | 0/10203820 [00:00<?, ?it/s]",
      "application/vnd.jupyter.widget-view+json": {
       "version_major": 2,
       "version_minor": 0,
       "model_id": "f0b69087e1204654927a2bcdde736521"
      }
     },
     "metadata": {},
     "output_type": "display_data"
    },
    {
     "data": {
      "text/plain": "PId                           1\nDeso                  0115A0040\nkommun                     0115\nmarital                  couple\nsex                           1\nage                          22\nHId                           1\nHHtype                   couple\nHHsize                        2\nnum_babies                    0\nemployment                    1\nstudenthood                   0\nincome_class                  1\nnum_cars                      0\nHHcars                        0\npot_car_driver         0.279179\nregion            non_car_agent\nagent_status      non_car_agent\nName: 0, dtype: object"
     },
     "execution_count": 4,
     "metadata": {},
     "output_type": "execute_result"
    }
   ],
   "source": [
    "df_pop_s = pd.read_pickle(\"dbs/scenarios/syn_pop_s.pkl\")\n",
    "df_pop = pd.read_pickle('dbs/syn_pop_all.pkl')\n",
    "df_pop = pd.merge(df_pop, df_id, on='PId', how='left')\n",
    "df_pop.fillna('non_car_agent', inplace=True)\n",
    "tqdm.pandas()\n",
    "df_pop.loc[:, 'agent_status'] = df_pop.progress_apply(lambda row: 'stationary' if row['PId'] in df_pop_s.PId else row['agent_status'], axis=1)\n",
    "df_pop.iloc[0]"
   ],
   "metadata": {
    "collapsed": false,
    "ExecuteTime": {
     "end_time": "2024-02-10T12:18:02.346064900Z",
     "start_time": "2024-02-10T12:12:25.798883400Z"
    }
   },
   "id": "b4a1de0c2d287784"
  },
  {
   "cell_type": "code",
   "execution_count": 6,
   "outputs": [
    {
     "data": {
      "text/plain": "agent_status\nfeasible         2678156\ninfeasible        272224\nnon_car_agent    6455478\nstationary        797962\ndtype: int64"
     },
     "execution_count": 6,
     "metadata": {},
     "output_type": "execute_result"
    }
   ],
   "source": [
    "df_pop.groupby('agent_status').size()"
   ],
   "metadata": {
    "collapsed": false,
    "ExecuteTime": {
     "end_time": "2024-02-10T12:18:08.542959300Z",
     "start_time": "2024-02-10T12:18:07.843125100Z"
    }
   },
   "id": "378ff869bcd1d680"
  },
  {
   "cell_type": "code",
   "execution_count": 12,
   "outputs": [],
   "source": [
    "df_pop.to_parquet('dbs/results/syn_pop_all.parquet', index=False)"
   ],
   "metadata": {
    "collapsed": false,
    "ExecuteTime": {
     "end_time": "2024-02-05T20:44:49.067982400Z",
     "start_time": "2024-02-05T20:44:40.328234800Z"
    }
   },
   "id": "2dc2205f536dc992"
  },
  {
   "cell_type": "markdown",
   "source": [
    "## 2. Filter plans"
   ],
   "metadata": {
    "collapsed": false
   },
   "id": "7e683f41e4c7ce27"
  },
  {
   "cell_type": "code",
   "execution_count": 7,
   "outputs": [],
   "source": [
    "def process_plans(df=None):\n",
    "    df_r_h = df.loc[(df['act_id'] == 0) & (df['src']=='input'), :]\n",
    "    home_dict = dict(zip(df_r_h.PId, \n",
    "                         list(df_r_h[['POINT_X', 'POINT_Y']].itertuples(index=False, name=None))))\n",
    "    df = df.loc[df['src'] == 'output', :]\n",
    "    df.loc[:, 'POINT_X'] = df.apply(lambda row: home_dict[row['PId']][0] if row['act_id'] == 0 else row['POINT_X'],\n",
    "                                        axis=1)\n",
    "    df.loc[:, 'POINT_Y'] = df.apply(lambda row: home_dict[row['PId']][1] if row['act_id'] == 0 else row['POINT_Y'],\n",
    "                                        axis=1)\n",
    "    return df.drop(columns=['src'])"
   ],
   "metadata": {
    "collapsed": false,
    "ExecuteTime": {
     "end_time": "2024-02-10T12:24:42.494546600Z",
     "start_time": "2024-02-10T12:24:42.385521500Z"
    }
   },
   "id": "7b768566976a0ab2"
  },
  {
   "cell_type": "code",
   "execution_count": 8,
   "outputs": [
    {
     "data": {
      "text/plain": "2678156"
     },
     "execution_count": 8,
     "metadata": {},
     "output_type": "execute_result"
    }
   ],
   "source": [
    "feasible_agents = df_pop.loc[df_pop.agent_status=='feasible', 'PId'].unique()\n",
    "len(feasible_agents)"
   ],
   "metadata": {
    "collapsed": false,
    "ExecuteTime": {
     "end_time": "2024-02-10T12:24:49.800942300Z",
     "start_time": "2024-02-10T12:24:48.854381400Z"
    }
   },
   "id": "19d67dd20f155a0b"
  },
  {
   "cell_type": "code",
   "execution_count": 9,
   "outputs": [
    {
     "name": "stdout",
     "output_type": "stream",
     "text": [
      "Process palt20...\n",
      "Process palt21...\n",
      "Process palt22...\n",
      "Process palt23...\n",
      "Process palt24...\n",
      "Process palt25...\n",
      "Process vast13...\n",
      "Process vast14...\n",
      "Process vast17...\n",
      "Process samm...\n",
      "Process skane...\n",
      "Process sydost...\n"
     ]
    }
   ],
   "source": [
    "list_df = []\n",
    "for region in ('palt20', 'palt21', 'palt22', 'palt23', 'palt24', 'palt25',\n",
    "               'vast13', 'vast14', 'vast17',\n",
    "                'samm', 'skane', 'sydost'):\n",
    "    print(f'Process {region}...')\n",
    "    df_r = pd.read_csv(f'dbs/output/plans_{region}.csv.gz', compression='gzip')\n",
    "    df_r = process_plans(df_r)\n",
    "    df_r = df_r.loc[df_r.PId.isin(feasible_agents), :]\n",
    "    df_r.loc[:, 'region'] = region\n",
    "    list_df.append(df_r)\n",
    "df = pd.concat(list_df)"
   ],
   "metadata": {
    "collapsed": false,
    "ExecuteTime": {
     "end_time": "2024-02-10T12:30:07.115111300Z",
     "start_time": "2024-02-10T12:24:57.052825900Z"
    }
   },
   "id": "df4e80cb19d691da"
  },
  {
   "cell_type": "code",
   "execution_count": 10,
   "outputs": [],
   "source": [
    "df.to_parquet('dbs/results/plans.parquet', index=False)"
   ],
   "metadata": {
    "collapsed": false,
    "ExecuteTime": {
     "end_time": "2024-02-10T12:30:17.462545500Z",
     "start_time": "2024-02-10T12:30:07.115111300Z"
    }
   },
   "id": "4a1bb9a357e6f85f"
  },
  {
   "cell_type": "markdown",
   "source": [
    "## 3. Filter events in line with the updated road network"
   ],
   "metadata": {
    "collapsed": false
   },
   "id": "6d447b9c6b3db71a"
  },
  {
   "cell_type": "code",
   "execution_count": 11,
   "outputs": [
    {
     "data": {
      "text/plain": "       length  freespeed  capacity  permlanes oneway modes         link_osm  \\\n0  226.510087   4.166667     600.0        1.0      1   car  10000487120005f   \n1   63.598364   4.166667     600.0        1.0      1   car   2122785310003f   \n2   69.926807   4.166667     600.0        1.0      1   car   4621445410001r   \n3  598.005977   4.166667     600.0        1.0      1   car   9940199710025r   \n4  226.510087   4.166667     600.0        1.0      1   car  10000487120005r   \n\n    from_node     to_node  region  link_id  \\\n0  2663465841  1212743975  palt20        0   \n1  1212743850  1212743975  palt20        1   \n2  3342856683  1212743975  palt20        2   \n3  2663465841  9183582768  palt20        3   \n4  1212743975  2663465841  palt20        4   \n\n                                            geometry  \n0  LINESTRING (563992.768 6747623.594, 563953.829...  \n1  LINESTRING (563901.883 6747365.117, 563953.829...  \n2  LINESTRING (563941.478 6747331.704, 563953.829...  \n3  LINESTRING (563992.768 6747623.594, 564578.040...  \n4  LINESTRING (563953.829 6747400.496, 563992.768...  ",
      "text/html": "<div>\n<style scoped>\n    .dataframe tbody tr th:only-of-type {\n        vertical-align: middle;\n    }\n\n    .dataframe tbody tr th {\n        vertical-align: top;\n    }\n\n    .dataframe thead th {\n        text-align: right;\n    }\n</style>\n<table border=\"1\" class=\"dataframe\">\n  <thead>\n    <tr style=\"text-align: right;\">\n      <th></th>\n      <th>length</th>\n      <th>freespeed</th>\n      <th>capacity</th>\n      <th>permlanes</th>\n      <th>oneway</th>\n      <th>modes</th>\n      <th>link_osm</th>\n      <th>from_node</th>\n      <th>to_node</th>\n      <th>region</th>\n      <th>link_id</th>\n      <th>geometry</th>\n    </tr>\n  </thead>\n  <tbody>\n    <tr>\n      <th>0</th>\n      <td>226.510087</td>\n      <td>4.166667</td>\n      <td>600.0</td>\n      <td>1.0</td>\n      <td>1</td>\n      <td>car</td>\n      <td>10000487120005f</td>\n      <td>2663465841</td>\n      <td>1212743975</td>\n      <td>palt20</td>\n      <td>0</td>\n      <td>LINESTRING (563992.768 6747623.594, 563953.829...</td>\n    </tr>\n    <tr>\n      <th>1</th>\n      <td>63.598364</td>\n      <td>4.166667</td>\n      <td>600.0</td>\n      <td>1.0</td>\n      <td>1</td>\n      <td>car</td>\n      <td>2122785310003f</td>\n      <td>1212743850</td>\n      <td>1212743975</td>\n      <td>palt20</td>\n      <td>1</td>\n      <td>LINESTRING (563901.883 6747365.117, 563953.829...</td>\n    </tr>\n    <tr>\n      <th>2</th>\n      <td>69.926807</td>\n      <td>4.166667</td>\n      <td>600.0</td>\n      <td>1.0</td>\n      <td>1</td>\n      <td>car</td>\n      <td>4621445410001r</td>\n      <td>3342856683</td>\n      <td>1212743975</td>\n      <td>palt20</td>\n      <td>2</td>\n      <td>LINESTRING (563941.478 6747331.704, 563953.829...</td>\n    </tr>\n    <tr>\n      <th>3</th>\n      <td>598.005977</td>\n      <td>4.166667</td>\n      <td>600.0</td>\n      <td>1.0</td>\n      <td>1</td>\n      <td>car</td>\n      <td>9940199710025r</td>\n      <td>2663465841</td>\n      <td>9183582768</td>\n      <td>palt20</td>\n      <td>3</td>\n      <td>LINESTRING (563992.768 6747623.594, 564578.040...</td>\n    </tr>\n    <tr>\n      <th>4</th>\n      <td>226.510087</td>\n      <td>4.166667</td>\n      <td>600.0</td>\n      <td>1.0</td>\n      <td>1</td>\n      <td>car</td>\n      <td>10000487120005r</td>\n      <td>1212743975</td>\n      <td>2663465841</td>\n      <td>palt20</td>\n      <td>4</td>\n      <td>LINESTRING (563953.829 6747400.496, 563992.768...</td>\n    </tr>\n  </tbody>\n</table>\n</div>"
     },
     "execution_count": 11,
     "metadata": {},
     "output_type": "execute_result"
    }
   ],
   "source": [
    "gdf_network = gpd.read_file('dbs/network/network_o.shp')\n",
    "gdf_network.head()"
   ],
   "metadata": {
    "collapsed": false,
    "ExecuteTime": {
     "end_time": "2024-02-10T21:00:12.239952Z",
     "start_time": "2024-02-10T20:54:42.824574500Z"
    }
   },
   "id": "e7379e7e40b2d979"
  },
  {
   "cell_type": "code",
   "execution_count": 12,
   "outputs": [],
   "source": [
    "link_dict_rgs = dict()\n",
    "for region in ('palt20', 'palt21', 'palt22', 'palt23', 'palt24', 'palt25',\n",
    "               'vast13', 'vast14', 'vast17',\n",
    "                'samm', 'skane', 'sydost'):\n",
    "    d = gdf_network.loc[gdf_network.region == region, :]\n",
    "    link_dict = dict(\n",
    "        zip(d['link_osm'],\n",
    "            list(d[['from_node', 'to_node']].itertuples(index=False, name=None)))\n",
    "    )\n",
    "    link_dict_rgs[region] = link_dict"
   ],
   "metadata": {
    "collapsed": false,
    "ExecuteTime": {
     "end_time": "2024-02-10T21:00:17.652621400Z",
     "start_time": "2024-02-10T21:00:12.239952Z"
    }
   },
   "id": "a9cdb5c2bf972193"
  },
  {
   "cell_type": "code",
   "execution_count": 13,
   "outputs": [],
   "source": [
    "link_dict = dict(\n",
    "    zip(gdf_network['link_osm'],\n",
    "        list(gdf_network[['from_node', 'to_node']].itertuples(index=False, name=None)))\n",
    ")"
   ],
   "metadata": {
    "collapsed": false,
    "ExecuteTime": {
     "end_time": "2024-02-10T21:00:19.342375100Z",
     "start_time": "2024-02-10T21:00:17.652621400Z"
    }
   },
   "id": "4e5e1b8750d34af6"
  },
  {
   "cell_type": "code",
   "execution_count": 14,
   "outputs": [],
   "source": [
    "def process_events(events=None, region=None):\n",
    "    df = events.loc[events.person.isin(feasible_agents), :].copy()\n",
    "    df.drop(columns=['link_id'], inplace=True)\n",
    "    df.loc[:, 'from_node'] = df['link'].apply(lambda x: \n",
    "                                              link_dict[x][0] if x not in link_dict_rgs[region]\n",
    "                                              else link_dict_rgs[region][x][0])\n",
    "    df.loc[:, 'to_node'] = df['link'].apply(lambda x: \n",
    "                                            link_dict[x][1] if x not in link_dict_rgs[region] \n",
    "                                            else link_dict_rgs[region][x][1])\n",
    "    df.loc[:, 'region'] = region\n",
    "    return df"
   ],
   "metadata": {
    "collapsed": false,
    "ExecuteTime": {
     "end_time": "2024-02-10T21:00:19.404879200Z",
     "start_time": "2024-02-10T21:00:19.311125700Z"
    }
   },
   "id": "61b382a28ff8f22b"
  },
  {
   "cell_type": "code",
   "execution_count": 15,
   "outputs": [
    {
     "name": "stdout",
     "output_type": "stream",
     "text": [
      "Process palt20...\n"
     ]
    },
    {
     "data": {
      "text/plain": "Reading batches:   0%|          | 0/7 [00:00<?, ?it/s]",
      "application/vnd.jupyter.widget-view+json": {
       "version_major": 2,
       "version_minor": 0,
       "model_id": "5fd525d95bab41b1b8490006ee9f64cc"
      }
     },
     "metadata": {},
     "output_type": "display_data"
    },
    {
     "name": "stdout",
     "output_type": "stream",
     "text": [
      "Process palt21...\n"
     ]
    },
    {
     "data": {
      "text/plain": "Reading batches:   0%|          | 0/7 [00:00<?, ?it/s]",
      "application/vnd.jupyter.widget-view+json": {
       "version_major": 2,
       "version_minor": 0,
       "model_id": "72d37c383b784beb88bfe069476e6e4f"
      }
     },
     "metadata": {},
     "output_type": "display_data"
    },
    {
     "name": "stdout",
     "output_type": "stream",
     "text": [
      "Process palt22...\n"
     ]
    },
    {
     "data": {
      "text/plain": "Reading batches:   0%|          | 0/7 [00:00<?, ?it/s]",
      "application/vnd.jupyter.widget-view+json": {
       "version_major": 2,
       "version_minor": 0,
       "model_id": "60c5f96cf96e436a97374dc2c60968f9"
      }
     },
     "metadata": {},
     "output_type": "display_data"
    },
    {
     "name": "stdout",
     "output_type": "stream",
     "text": [
      "Process palt23...\n"
     ]
    },
    {
     "data": {
      "text/plain": "Reading batches:   0%|          | 0/7 [00:00<?, ?it/s]",
      "application/vnd.jupyter.widget-view+json": {
       "version_major": 2,
       "version_minor": 0,
       "model_id": "8f9ba360efdd48d3a6d5fa4b7ea685e5"
      }
     },
     "metadata": {},
     "output_type": "display_data"
    },
    {
     "name": "stdout",
     "output_type": "stream",
     "text": [
      "Process palt24...\n"
     ]
    },
    {
     "data": {
      "text/plain": "Reading batches:   0%|          | 0/7 [00:00<?, ?it/s]",
      "application/vnd.jupyter.widget-view+json": {
       "version_major": 2,
       "version_minor": 0,
       "model_id": "72d66311a4594fc6b597b1f487cc40e7"
      }
     },
     "metadata": {},
     "output_type": "display_data"
    },
    {
     "name": "stdout",
     "output_type": "stream",
     "text": [
      "Process palt25...\n"
     ]
    },
    {
     "data": {
      "text/plain": "Reading batches:   0%|          | 0/7 [00:00<?, ?it/s]",
      "application/vnd.jupyter.widget-view+json": {
       "version_major": 2,
       "version_minor": 0,
       "model_id": "b738b778037444eea142e7d9e506d21a"
      }
     },
     "metadata": {},
     "output_type": "display_data"
    },
    {
     "name": "stdout",
     "output_type": "stream",
     "text": [
      "Process vast13...\n"
     ]
    },
    {
     "data": {
      "text/plain": "Reading batches:   0%|          | 0/7 [00:00<?, ?it/s]",
      "application/vnd.jupyter.widget-view+json": {
       "version_major": 2,
       "version_minor": 0,
       "model_id": "f2868a5964804f7596283c6943bffe25"
      }
     },
     "metadata": {},
     "output_type": "display_data"
    },
    {
     "name": "stdout",
     "output_type": "stream",
     "text": [
      "Process vast14...\n"
     ]
    },
    {
     "data": {
      "text/plain": "Reading batches:   0%|          | 0/7 [00:00<?, ?it/s]",
      "application/vnd.jupyter.widget-view+json": {
       "version_major": 2,
       "version_minor": 0,
       "model_id": "be24b30cf27142f084ed0c94f2452b35"
      }
     },
     "metadata": {},
     "output_type": "display_data"
    },
    {
     "name": "stdout",
     "output_type": "stream",
     "text": [
      "Process vast17...\n"
     ]
    },
    {
     "data": {
      "text/plain": "Reading batches:   0%|          | 0/7 [00:00<?, ?it/s]",
      "application/vnd.jupyter.widget-view+json": {
       "version_major": 2,
       "version_minor": 0,
       "model_id": "1f28a04c8c07465c9c6eb1b4305ccc1b"
      }
     },
     "metadata": {},
     "output_type": "display_data"
    },
    {
     "name": "stdout",
     "output_type": "stream",
     "text": [
      "Process samm...\n"
     ]
    },
    {
     "data": {
      "text/plain": "Reading batches:   0%|          | 0/7 [00:00<?, ?it/s]",
      "application/vnd.jupyter.widget-view+json": {
       "version_major": 2,
       "version_minor": 0,
       "model_id": "726ea2ef5ef14c35b2badfa3a06f7468"
      }
     },
     "metadata": {},
     "output_type": "display_data"
    },
    {
     "name": "stdout",
     "output_type": "stream",
     "text": [
      "Process skane...\n"
     ]
    },
    {
     "data": {
      "text/plain": "Reading batches:   0%|          | 0/7 [00:00<?, ?it/s]",
      "application/vnd.jupyter.widget-view+json": {
       "version_major": 2,
       "version_minor": 0,
       "model_id": "8b083a7d9383453aa7ec86886617dddd"
      }
     },
     "metadata": {},
     "output_type": "display_data"
    },
    {
     "name": "stdout",
     "output_type": "stream",
     "text": [
      "Process sydost...\n"
     ]
    },
    {
     "data": {
      "text/plain": "Reading batches:   0%|          | 0/7 [00:00<?, ?it/s]",
      "application/vnd.jupyter.widget-view+json": {
       "version_major": 2,
       "version_minor": 0,
       "model_id": "d0d0403681cb4fc996f8cb88efffdafb"
      }
     },
     "metadata": {},
     "output_type": "display_data"
    }
   ],
   "source": [
    "# Data location\n",
    "for region in ('palt20', 'palt21', 'palt22', 'palt23', 'palt24', 'palt25',\n",
    "               'vast13', 'vast14', 'vast17',\n",
    "                'samm', 'skane', 'sydost'):\n",
    "    print(f'Process {region}...')\n",
    "    for batch in tqdm(range(0, 7), desc='Reading batches'):\n",
    "        events_file = f'dbs/events/{region}_events_batch{batch}.csv.gz'\n",
    "        df_events = pd.read_csv(events_file, compression='gzip')\n",
    "        to_file = f'dbs/results/events/{region}_events_batch{batch}.parquet'\n",
    "        df_proc = process_events(events=df_events, region=region)\n",
    "        df_proc.to_parquet(to_file, index=False)"
   ],
   "metadata": {
    "collapsed": false,
    "ExecuteTime": {
     "end_time": "2024-02-10T21:29:56.148280700Z",
     "start_time": "2024-02-10T21:00:19.404879200Z"
    }
   },
   "id": "69ccd4fdbca02837"
  },
  {
   "cell_type": "code",
   "execution_count": null,
   "outputs": [],
   "source": [],
   "metadata": {
    "collapsed": false
   },
   "id": "41b7254d98c23475"
  }
 ],
 "metadata": {
  "kernelspec": {
   "display_name": "Python 3",
   "language": "python",
   "name": "python3"
  },
  "language_info": {
   "codemirror_mode": {
    "name": "ipython",
    "version": 2
   },
   "file_extension": ".py",
   "mimetype": "text/x-python",
   "name": "python",
   "nbconvert_exporter": "python",
   "pygments_lexer": "ipython2",
   "version": "2.7.6"
  }
 },
 "nbformat": 4,
 "nbformat_minor": 5
}
